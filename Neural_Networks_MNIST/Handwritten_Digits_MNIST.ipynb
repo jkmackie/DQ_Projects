{
 "cells": [
  {
   "cell_type": "code",
   "execution_count": 1,
   "metadata": {},
   "outputs": [
    {
     "name": "stderr",
     "output_type": "stream",
     "text": [
      "C:\\Users\\Justin\\Anaconda3\\envs\\virtualbox\\lib\\site-packages\\sklearn\\cross_validation.py:41: DeprecationWarning: This module was deprecated in version 0.18 in favor of the model_selection module into which all the refactored classes and functions are moved. Also note that the interface of the new CV iterators are different from that of this module. This module will be removed in 0.20.\n",
      "  \"This module will be removed in 0.20.\", DeprecationWarning)\n"
     ]
    }
   ],
   "source": [
    "%matplotlib inline\n",
    "from sklearn.datasets import load_digits\n",
    "import numpy as np\n",
    "import matplotlib.pyplot as plt\n",
    "import pandas as pd\n",
    "from sklearn.neural_network import MLPClassifier\n",
    "from sklearn.metrics import accuracy_score\n",
    "from sklearn.metrics import roc_auc_score\n",
    "from sklearn.cross_validation import KFold\n",
    "from sklearn.model_selection import cross_val_score\n",
    "import warnings\n",
    "warnings.filterwarnings('ignore')"
   ]
  },
  {
   "cell_type": "code",
   "execution_count": 2,
   "metadata": {},
   "outputs": [],
   "source": [
    "#save data to variables\n",
    "digits_bunch=load_digits()\n",
    "data=digits_bunch.data\n",
    "target=digits_bunch.target"
   ]
  },
  {
   "cell_type": "code",
   "execution_count": 3,
   "metadata": {},
   "outputs": [
    {
     "name": "stdout",
     "output_type": "stream",
     "text": [
      "<class 'sklearn.utils.Bunch'>\n",
      "<class 'numpy.ndarray'>\n",
      "(1797, 64)\n"
     ]
    }
   ],
   "source": [
    "#explore data format\n",
    "print(type(digits_bunch))\n",
    "print(type(data))\n",
    "print(data.shape)"
   ]
  },
  {
   "cell_type": "code",
   "execution_count": 4,
   "metadata": {},
   "outputs": [
    {
     "data": {
      "text/html": [
       "<div>\n",
       "<style scoped>\n",
       "    .dataframe tbody tr th:only-of-type {\n",
       "        vertical-align: middle;\n",
       "    }\n",
       "\n",
       "    .dataframe tbody tr th {\n",
       "        vertical-align: top;\n",
       "    }\n",
       "\n",
       "    .dataframe thead th {\n",
       "        text-align: right;\n",
       "    }\n",
       "</style>\n",
       "<table border=\"1\" class=\"dataframe\">\n",
       "  <thead>\n",
       "    <tr style=\"text-align: right;\">\n",
       "      <th></th>\n",
       "      <th>0</th>\n",
       "      <th>1</th>\n",
       "      <th>2</th>\n",
       "      <th>3</th>\n",
       "      <th>4</th>\n",
       "      <th>5</th>\n",
       "      <th>6</th>\n",
       "      <th>7</th>\n",
       "      <th>8</th>\n",
       "      <th>9</th>\n",
       "      <th>...</th>\n",
       "      <th>54</th>\n",
       "      <th>55</th>\n",
       "      <th>56</th>\n",
       "      <th>57</th>\n",
       "      <th>58</th>\n",
       "      <th>59</th>\n",
       "      <th>60</th>\n",
       "      <th>61</th>\n",
       "      <th>62</th>\n",
       "      <th>63</th>\n",
       "    </tr>\n",
       "  </thead>\n",
       "  <tbody>\n",
       "    <tr>\n",
       "      <th>0</th>\n",
       "      <td>0.0</td>\n",
       "      <td>0.0</td>\n",
       "      <td>5.0</td>\n",
       "      <td>13.0</td>\n",
       "      <td>9.0</td>\n",
       "      <td>1.0</td>\n",
       "      <td>0.0</td>\n",
       "      <td>0.0</td>\n",
       "      <td>0.0</td>\n",
       "      <td>0.0</td>\n",
       "      <td>...</td>\n",
       "      <td>0.0</td>\n",
       "      <td>0.0</td>\n",
       "      <td>0.0</td>\n",
       "      <td>0.0</td>\n",
       "      <td>6.0</td>\n",
       "      <td>13.0</td>\n",
       "      <td>10.0</td>\n",
       "      <td>0.0</td>\n",
       "      <td>0.0</td>\n",
       "      <td>0.0</td>\n",
       "    </tr>\n",
       "    <tr>\n",
       "      <th>1</th>\n",
       "      <td>0.0</td>\n",
       "      <td>0.0</td>\n",
       "      <td>0.0</td>\n",
       "      <td>12.0</td>\n",
       "      <td>13.0</td>\n",
       "      <td>5.0</td>\n",
       "      <td>0.0</td>\n",
       "      <td>0.0</td>\n",
       "      <td>0.0</td>\n",
       "      <td>0.0</td>\n",
       "      <td>...</td>\n",
       "      <td>0.0</td>\n",
       "      <td>0.0</td>\n",
       "      <td>0.0</td>\n",
       "      <td>0.0</td>\n",
       "      <td>0.0</td>\n",
       "      <td>11.0</td>\n",
       "      <td>16.0</td>\n",
       "      <td>10.0</td>\n",
       "      <td>0.0</td>\n",
       "      <td>0.0</td>\n",
       "    </tr>\n",
       "    <tr>\n",
       "      <th>2</th>\n",
       "      <td>0.0</td>\n",
       "      <td>0.0</td>\n",
       "      <td>0.0</td>\n",
       "      <td>4.0</td>\n",
       "      <td>15.0</td>\n",
       "      <td>12.0</td>\n",
       "      <td>0.0</td>\n",
       "      <td>0.0</td>\n",
       "      <td>0.0</td>\n",
       "      <td>0.0</td>\n",
       "      <td>...</td>\n",
       "      <td>5.0</td>\n",
       "      <td>0.0</td>\n",
       "      <td>0.0</td>\n",
       "      <td>0.0</td>\n",
       "      <td>0.0</td>\n",
       "      <td>3.0</td>\n",
       "      <td>11.0</td>\n",
       "      <td>16.0</td>\n",
       "      <td>9.0</td>\n",
       "      <td>0.0</td>\n",
       "    </tr>\n",
       "  </tbody>\n",
       "</table>\n",
       "<p>3 rows × 64 columns</p>\n",
       "</div>"
      ],
      "text/plain": [
       "    0    1    2     3     4     5    6    7    8    9  ...    54   55   56  \\\n",
       "0  0.0  0.0  5.0  13.0   9.0   1.0  0.0  0.0  0.0  0.0 ...   0.0  0.0  0.0   \n",
       "1  0.0  0.0  0.0  12.0  13.0   5.0  0.0  0.0  0.0  0.0 ...   0.0  0.0  0.0   \n",
       "2  0.0  0.0  0.0   4.0  15.0  12.0  0.0  0.0  0.0  0.0 ...   5.0  0.0  0.0   \n",
       "\n",
       "    57   58    59    60    61   62   63  \n",
       "0  0.0  6.0  13.0  10.0   0.0  0.0  0.0  \n",
       "1  0.0  0.0  11.0  16.0  10.0  0.0  0.0  \n",
       "2  0.0  0.0   3.0  11.0  16.0  9.0  0.0  \n",
       "\n",
       "[3 rows x 64 columns]"
      ]
     },
     "execution_count": 4,
     "metadata": {},
     "output_type": "execute_result"
    }
   ],
   "source": [
    "datadf=pd.DataFrame(data)\n",
    "datadf.head(3)"
   ]
  },
  {
   "cell_type": "code",
   "execution_count": 5,
   "metadata": {},
   "outputs": [
    {
     "name": "stdout",
     "output_type": "stream",
     "text": [
      "before reshape: (64,) \n",
      "\n",
      "before reshape: \n",
      " [  0.   0.   1.  11.  16.  16.  10.   0.   0.   0.  13.  14.   8.  12.  11.\n",
      "   0.   0.   0.   4.   0.   0.  13.   4.   0.   0.   0.   0.   0.   3.  15.\n",
      "   0.   0.   0.   0.   2.  15.  16.  16.   9.   0.   0.   0.   3.  13.  16.\n",
      "   8.   1.   0.   0.   0.   0.   7.  10.   0.   0.   0.   0.   0.   0.  13.\n",
      "   3.   0.   0.   0.] \n",
      "\n",
      "after reshape: (8, 8) \n",
      "\n",
      "after reshape: \n",
      " [[  0.   0.   1.  11.  16.  16.  10.   0.]\n",
      " [  0.   0.  13.  14.   8.  12.  11.   0.]\n",
      " [  0.   0.   4.   0.   0.  13.   4.   0.]\n",
      " [  0.   0.   0.   0.   3.  15.   0.   0.]\n",
      " [  0.   0.   2.  15.  16.  16.   9.   0.]\n",
      " [  0.   0.   3.  13.  16.   8.   1.   0.]\n",
      " [  0.   0.   0.   7.  10.   0.   0.   0.]\n",
      " [  0.   0.   0.  13.   3.   0.   0.   0.]]\n"
     ]
    }
   ],
   "source": [
    "#Test code - reshaping a row of pixel values\n",
    "\n",
    "first_image=datadf.iloc[300]\n",
    "#first_image=first_image.drop(columns='label', axis=1)\n",
    "np_image=first_image.values\n",
    "print('before reshape:', np_image.shape, '\\n')\n",
    "print('before reshape:', '\\n', np_image,'\\n')\n",
    "\n",
    "np_image=np_image.reshape(8,8)\n",
    "print('after reshape:', np_image.shape, '\\n')\n",
    "print('after reshape:', '\\n', np_image)"
   ]
  },
  {
   "cell_type": "code",
   "execution_count": 6,
   "metadata": {},
   "outputs": [],
   "source": [
    "sqim=[]\n",
    "for row in [0,100,200,300,1000,1100,1200,1300]:\n",
    "    #get image in row as series and convert series to np.ndarray with .values\n",
    "    image=datadf.iloc[row]\n",
    "    image=image.values\n",
    "    #reshape image\n",
    "    image=image.reshape(8,8)\n",
    "    sqim.append(image)"
   ]
  },
  {
   "cell_type": "code",
   "execution_count": 7,
   "metadata": {},
   "outputs": [
    {
     "name": "stdout",
     "output_type": "stream",
     "text": [
      "0\n",
      "4\n",
      "1\n",
      "7\n",
      "1\n",
      "9\n",
      "7\n",
      "3\n"
     ]
    }
   ],
   "source": [
    "#these are the targets/labels we should see in the plots\n",
    "for row in [0,100,200,300,1000,1100,1200,1300]:\n",
    "    print(target[row])"
   ]
  },
  {
   "cell_type": "code",
   "execution_count": 8,
   "metadata": {},
   "outputs": [
    {
     "data": {
      "image/png": "[encoded data removed]",
      "text/plain": [
       "<Figure size 432x288 with 8 Axes>"
      ]
     },
     "metadata": {
      "needs_background": "light"
     },
     "output_type": "display_data"
    }
   ],
   "source": [
    "# 2 rows X 4 columns of charts. 8 total.\n",
    "# there is a way to loop plotting using enumerate\n",
    "fig = plt.figure()\n",
    "ax1=fig.add_subplot(2,4,1)\n",
    "ax2=fig.add_subplot(2,4,2)\n",
    "ax3=fig.add_subplot(2,4,3)\n",
    "ax4=fig.add_subplot(2,4,4)\n",
    "ax5=fig.add_subplot(2,4,5)\n",
    "ax6=fig.add_subplot(2,4,6)\n",
    "ax7=fig.add_subplot(2,4,7)\n",
    "ax8=fig.add_subplot(2,4,8)\n",
    "\n",
    "ax1.imshow(sqim[0], cmap='gray_r')\n",
    "ax2.imshow(sqim[1], cmap='gray_r')\n",
    "ax3.imshow(sqim[2], cmap='gray_r')\n",
    "ax4.imshow(sqim[3], cmap='gray_r')\n",
    "ax5.imshow(sqim[4], cmap='gray_r')\n",
    "ax6.imshow(sqim[5], cmap='gray_r')\n",
    "ax7.imshow(sqim[6], cmap='gray_r')\n",
    "ax8.imshow(sqim[7], cmap='gray_r')\n",
    "\n",
    "plt.show()"
   ]
  },
  {
   "cell_type": "code",
   "execution_count": 9,
   "metadata": {},
   "outputs": [],
   "source": [
    "#add targets (labels) to datadf\n",
    "datadf['target']=target"
   ]
  },
  {
   "cell_type": "code",
   "execution_count": 18,
   "metadata": {},
   "outputs": [
    {
     "name": "stdout",
     "output_type": "stream",
     "text": [
      "train_pred.  8  neurons. Accuracy: 0.679\n",
      " test_pred.  8  neurons. Accuracy: 0.659\n",
      "train_pred.  16  neurons. Accuracy: 0.991\n",
      " test_pred.  16  neurons. Accuracy: 0.897\n",
      "train_pred.  32  neurons. Accuracy: 1.0\n",
      " test_pred.  32  neurons. Accuracy: 0.938\n",
      "train_pred.  64  neurons. Accuracy: 1.0\n",
      " test_pred.  64  neurons. Accuracy: 0.928\n",
      "train_pred.  128  neurons. Accuracy: 1.0\n",
      " test_pred.  128  neurons. Accuracy: 0.932\n",
      "train_pred.  256  neurons. Accuracy: 1.0\n",
      " test_pred.  256  neurons. Accuracy: 0.94\n",
      "Wall time: 2.58 s\n"
     ]
    }
   ],
   "source": [
    "%%time\n",
    "#one hidden layer of neurons\n",
    "fiftypct=int(len(datadf)*0.5)\n",
    "train=datadf.iloc[:fiftypct]\n",
    "test=datadf.iloc[fiftypct:]\n",
    "\n",
    "train_x=train.iloc[:,0:64]  #64 is exclusive, target col excluded\n",
    "train_y=train.iloc[:,64]\n",
    "test_x=test.iloc[:,0:64]\n",
    "test_y=test.iloc[:,64]\n",
    "\n",
    "#Neural network pipeline - data, test, errors\n",
    "\n",
    "for neuron in [8,16,32,64,128,256]:\n",
    "    mlp=MLPClassifier(hidden_layer_sizes=(neuron,), activation='relu')\n",
    "    mlp.fit(train_x,train_y)\n",
    "    train_pred=mlp.predict(train_x)\n",
    "    test_pred=mlp.predict(test_x)\n",
    "    train_acc=accuracy_score(train_y, train_pred)\n",
    "    test_acc=accuracy_score(test_y, test_pred)\n",
    "    print('train_pred. ', neuron,' neurons.', 'Accuracy:', round(train_acc,3))\n",
    "    print(' test_pred. ', neuron,' neurons.', 'Accuracy:', round(test_acc,3))\n"
   ]
  },
  {
   "cell_type": "code",
   "execution_count": 19,
   "metadata": {},
   "outputs": [],
   "source": [
    "#Accuracy continues to increase in test with increasing number\n",
    "#of neurons.  The predictions improve with more neurons, so overfitting\n",
    "#isn't happening."
   ]
  },
  {
   "cell_type": "code",
   "execution_count": 22,
   "metadata": {},
   "outputs": [
    {
     "name": "stdout",
     "output_type": "stream",
     "text": [
      "train_pred.  64  neurons. Accuracy: 1.0\n",
      " test_pred.  64  neurons. Accuracy: 0.932\n",
      "train_pred.  128  neurons. Accuracy: 1.0\n",
      " test_pred.  128  neurons. Accuracy: 0.938\n",
      "train_pred.  64  neurons. Accuracy: 1.0\n",
      " test_pred.  64  neurons. Accuracy: 0.921\n",
      "train_pred.  128  neurons. Accuracy: 1.0\n",
      " test_pred.  128  neurons. Accuracy: 0.939\n",
      "train_pred.  64  neurons. Accuracy: 1.0\n",
      " test_pred.  64  neurons. Accuracy: 0.943\n",
      "train_pred.  128  neurons. Accuracy: 1.0\n",
      " test_pred.  128  neurons. Accuracy: 0.948\n",
      "train_pred.  64  neurons. Accuracy: 1.0\n",
      " test_pred.  64  neurons. Accuracy: 0.938\n",
      "train_pred.  128  neurons. Accuracy: 1.0\n",
      " test_pred.  128  neurons. Accuracy: 0.951\n",
      "train_pred.  64  neurons. Accuracy: 1.0\n",
      " test_pred.  64  neurons. Accuracy: 0.93\n",
      "train_pred.  128  neurons. Accuracy: 1.0\n",
      " test_pred.  128  neurons. Accuracy: 0.942\n",
      "train_pred.  64  neurons. Accuracy: 1.0\n",
      " test_pred.  64  neurons. Accuracy: 0.915\n",
      "train_pred.  128  neurons. Accuracy: 1.0\n",
      " test_pred.  128  neurons. Accuracy: 0.934\n",
      "train_pred.  64  neurons. Accuracy: 1.0\n",
      " test_pred.  64  neurons. Accuracy: 0.934\n",
      "train_pred.  128  neurons. Accuracy: 1.0\n",
      " test_pred.  128  neurons. Accuracy: 0.944\n",
      "train_pred.  64  neurons. Accuracy: 1.0\n",
      " test_pred.  64  neurons. Accuracy: 0.941\n",
      "train_pred.  128  neurons. Accuracy: 1.0\n",
      " test_pred.  128  neurons. Accuracy: 0.928\n",
      "train_pred.  64  neurons. Accuracy: 1.0\n",
      " test_pred.  64  neurons. Accuracy: 0.935\n",
      "train_pred.  128  neurons. Accuracy: 1.0\n",
      " test_pred.  128  neurons. Accuracy: 0.933\n",
      "train_pred.  64  neurons. Accuracy: 1.0\n",
      " test_pred.  64  neurons. Accuracy: 0.924\n",
      "train_pred.  128  neurons. Accuracy: 1.0\n",
      " test_pred.  128  neurons. Accuracy: 0.945\n",
      "train_pred.  64  neurons. Accuracy: 1.0\n",
      " test_pred.  64  neurons. Accuracy: 0.93\n",
      "train_pred.  128  neurons. Accuracy: 1.0\n",
      " test_pred.  128  neurons. Accuracy: 0.94\n",
      "train_pred.  64  neurons. Accuracy: 1.0\n",
      " test_pred.  64  neurons. Accuracy: 0.941\n",
      "train_pred.  128  neurons. Accuracy: 1.0\n",
      " test_pred.  128  neurons. Accuracy: 0.953\n",
      "train_pred.  64  neurons. Accuracy: 1.0\n",
      " test_pred.  64  neurons. Accuracy: 0.921\n",
      "train_pred.  128  neurons. Accuracy: 1.0\n",
      " test_pred.  128  neurons. Accuracy: 0.94\n",
      "train_pred.  64  neurons. Accuracy: 1.0\n",
      " test_pred.  64  neurons. Accuracy: 0.924\n",
      "train_pred.  128  neurons. Accuracy: 1.0\n",
      " test_pred.  128  neurons. Accuracy: 0.933\n",
      "train_pred.  64  neurons. Accuracy: 1.0\n",
      " test_pred.  64  neurons. Accuracy: 0.928\n",
      "train_pred.  128  neurons. Accuracy: 1.0\n",
      " test_pred.  128  neurons. Accuracy: 0.942\n",
      "train_pred.  64  neurons. Accuracy: 1.0\n",
      " test_pred.  64  neurons. Accuracy: 0.924\n",
      "train_pred.  128  neurons. Accuracy: 1.0\n",
      " test_pred.  128  neurons. Accuracy: 0.95\n",
      "train_pred.  64  neurons. Accuracy: 1.0\n",
      " test_pred.  64  neurons. Accuracy: 0.932\n",
      "train_pred.  128  neurons. Accuracy: 1.0\n",
      " test_pred.  128  neurons. Accuracy: 0.934\n",
      "train_pred.  64  neurons. Accuracy: 1.0\n",
      " test_pred.  64  neurons. Accuracy: 0.937\n",
      "train_pred.  128  neurons. Accuracy: 1.0\n",
      " test_pred.  128  neurons. Accuracy: 0.944\n",
      "train_pred.  64  neurons. Accuracy: 1.0\n",
      " test_pred.  64  neurons. Accuracy: 0.93\n",
      "train_pred.  128  neurons. Accuracy: 1.0\n",
      " test_pred.  128  neurons. Accuracy: 0.935\n",
      "train_pred.  64  neurons. Accuracy: 1.0\n",
      " test_pred.  64  neurons. Accuracy: 0.928\n",
      "train_pred.  128  neurons. Accuracy: 1.0\n",
      " test_pred.  128  neurons. Accuracy: 0.935\n",
      "train_pred.  64  neurons. Accuracy: 1.0\n",
      " test_pred.  64  neurons. Accuracy: 0.928\n",
      "train_pred.  128  neurons. Accuracy: 1.0\n",
      " test_pred.  128  neurons. Accuracy: 0.937\n",
      "902 ms ± 28.6 ms per loop (mean ± std. dev. of 7 runs, 3 loops each)\n"
     ]
    }
   ],
   "source": [
    "%%timeit -n 3\n",
    "#2 hidden layers of neurons\n",
    "#model slow for 128 neurons/layer\n",
    "fiftypct=int(len(datadf)*0.5)\n",
    "train=datadf.iloc[:fiftypct]\n",
    "test=datadf.iloc[fiftypct:]\n",
    "\n",
    "train_x=train.iloc[:,0:64]  #64 is exclusive, target col excluded\n",
    "train_y=train.iloc[:,64]\n",
    "test_x=test.iloc[:,0:64]\n",
    "test_y=test.iloc[:,64]\n",
    "\n",
    "#Neural network pipeline - data, test, errors\n",
    "\n",
    "for neuron in [64,128]:\n",
    "    mlp=MLPClassifier(hidden_layer_sizes=(neuron, neuron), activation='relu')\n",
    "    mlp.fit(train_x,train_y)\n",
    "    train_pred=mlp.predict(train_x)\n",
    "    test_pred=mlp.predict(test_x)\n",
    "    train_acc=accuracy_score(train_y, train_pred)\n",
    "    test_acc=accuracy_score(test_y, test_pred)\n",
    "    print('train_pred. ', neuron,' neurons.', 'Accuracy:', round(train_acc,3))\n",
    "    print(' test_pred. ', neuron,' neurons.', 'Accuracy:', round(test_acc,3))\n"
   ]
  },
  {
   "cell_type": "code",
   "execution_count": 13,
   "metadata": {},
   "outputs": [],
   "source": [
    "#Performance improves with more neurons, so no overfit."
   ]
  },
  {
   "cell_type": "code",
   "execution_count": 14,
   "metadata": {},
   "outputs": [
    {
     "data": {
      "text/plain": [
       "(1797, 65)"
      ]
     },
     "execution_count": 14,
     "metadata": {},
     "output_type": "execute_result"
    }
   ],
   "source": [
    "datadf.shape\n",
    "#datadf=datadf.drop([1794,1795,1796])\n",
    "datadf.tail()\n",
    "datadf.shape"
   ]
  },
  {
   "cell_type": "code",
   "execution_count": 15,
   "metadata": {},
   "outputs": [
    {
     "name": "stdout",
     "output_type": "stream",
     "text": [
      "neurons:  10\n",
      "0.990760708481 0.897623560015\n",
      "neurons:  64\n",
      "0.995380354241 0.91959959123\n",
      "neurons:  128\n",
      "0.99692023616 0.930447788926\n"
     ]
    }
   ],
   "source": [
    "# Neural network training pipeline with KFold cross-validation, cv\n",
    "X=np.array(datadf.iloc[:,0:64])\n",
    "Y=np.array(datadf.iloc[:,64])\n",
    "elementcnt=int(len(datadf))\n",
    "\n",
    "big_accuracy=[]\n",
    "holdout_accuracy=[]\n",
    "\n",
    "#put KFold cross-validation in function:\n",
    "def cv(element_count, numb_folds):\n",
    "    kf=KFold(elementcnt, n_folds=6, shuffle=False)             \n",
    "    for train_index, test_index in kf:\n",
    "        X_big, X_holdout = X[train_index], X[test_index]  \n",
    "        Y_big, Y_holdout = Y[train_index], Y[test_index]\n",
    "        mlp.fit(X_big, Y_big)  #train has same dimen.; test has same dimen.\n",
    "        big_pred=mlp.predict(X_big)\n",
    "        holdout_pred=mlp.predict(X_holdout)\n",
    "        big_acc=accuracy_score(Y_big, big_pred)\n",
    "        hout_acc=accuracy_score(Y_holdout, holdout_pred)\n",
    "        big_accuracy.append(big_acc)\n",
    "        holdout_accuracy.append(hout_acc)\n",
    "    big_avg=np.mean(big_accuracy)\n",
    "    holdout_avg=np.mean(holdout_accuracy)\n",
    "    return(big_avg, holdout_avg)\n",
    "\n",
    "#instantiate model, cross-validation, and print score\n",
    "for neuron in [10, 64, 128]:\n",
    "    mlp=MLPClassifier(hidden_layer_sizes=(neuron, neuron, neuron), activation='relu')\n",
    "    big_avg, holdout_avg=cv(elementcnt, 6)    \n",
    "    print('neurons: ',neuron)\n",
    "    print(big_avg, holdout_avg)    "
   ]
  },
  {
   "cell_type": "code",
   "execution_count": 16,
   "metadata": {},
   "outputs": [],
   "source": [
    "#KFold model holdout accuracy improves with more neurons.\n",
    "#Don't see overfitting."
   ]
  },
  {
   "cell_type": "code",
   "execution_count": 17,
   "metadata": {},
   "outputs": [
    {
     "name": "stdout",
     "output_type": "stream",
     "text": [
      "[0.90764771460423621, 0.95438312894834632, 0.95438312894834632]\n"
     ]
    }
   ],
   "source": [
    "#Compact model using depreciated cross_val_score\n",
    "#THIS RUNS A LONG TIME without graphics card\n",
    "\n",
    "#Model cross-validation using KFold\n",
    "#Instantiate model, instantiate KFold, use cross_val_score()\n",
    "#to return the model score metric.\n",
    "X=np.array(datadf.iloc[:,0:64])\n",
    "Y=np.array(datadf.iloc[:,64])\n",
    "elementcnt=int(len(datadf))  #total number of elements for KFold instantiation\n",
    "avgscore_3models=[]\n",
    "\n",
    "for neuron in [10, 64, 128]:\n",
    "    mlp=MLPClassifier(hidden_layer_sizes=(neuron, neuron, neuron), activation='relu')\n",
    "    kf=KFold(elementcnt, n_folds=6, shuffle=False)\n",
    "    score=cross_val_score(mlp, X, Y, cv=kf)\n",
    "    avgscore=np.mean(score)\n",
    "    avgscore_3models.append(avgscore)\n",
    "print(avgscore_3models)"
   ]
  },
  {
   "cell_type": "code",
   "execution_count": null,
   "metadata": {},
   "outputs": [],
   "source": []
  },
  {
   "cell_type": "code",
   "execution_count": null,
   "metadata": {},
   "outputs": [],
   "source": []
  }
 ],
 "metadata": {
  "anaconda-cloud": {},
  "kernelspec": {
   "display_name": "Python 3",
   "language": "python",
   "name": "python3"
  },
  "language_info": {
   "codemirror_mode": {
    "name": "ipython",
    "version": 3
   },
   "file_extension": ".py",
   "mimetype": "text/x-python",
   "name": "python",
   "nbconvert_exporter": "python",
   "pygments_lexer": "ipython3",
   "version": "3.6.8"
  },
  "varInspector": {
   "cols": {
    "lenName": 16,
    "lenType": 16,
    "lenVar": 40
   },
   "kernels_config": {
    "python": {
     "delete_cmd_postfix": "",
     "delete_cmd_prefix": "del ",
     "library": "var_list.py",
     "varRefreshCmd": "print(var_dic_list())"
    },
    "r": {
     "delete_cmd_postfix": ") ",
     "delete_cmd_prefix": "rm(",
     "library": "var_list.r",
     "varRefreshCmd": "cat(var_dic_list()) "
    }
   },
   "types_to_exclude": [
    "module",
    "function",
    "builtin_function_or_method",
    "instance",
    "_Feature"
   ],
   "window_display": false
  }
 },
 "nbformat": 4,
 "nbformat_minor": 2
}

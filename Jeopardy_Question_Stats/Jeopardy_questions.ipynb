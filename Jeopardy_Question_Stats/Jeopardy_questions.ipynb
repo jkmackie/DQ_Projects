{
 "cells": [
  {
   "cell_type": "code",
   "execution_count": 2,
   "metadata": {
    "collapsed": true
   },
   "outputs": [],
   "source": [
    "import pandas as pd\n",
    "import string\n",
    "import numpy as np\n",
    "\n",
    "#increase default number of rows possible to display\n",
    "pd.options.display.max_rows=100"
   ]
  },
  {
   "cell_type": "code",
   "execution_count": 3,
   "metadata": {
    "collapsed": true
   },
   "outputs": [],
   "source": [
    "jeopardy=pd.read_csv('jeopardy.csv')"
   ]
  },
  {
   "cell_type": "code",
   "execution_count": 4,
   "metadata": {},
   "outputs": [
    {
     "data": {
      "text/html": [
       "<div>\n",
       "<style scoped>\n",
       "    .dataframe tbody tr th:only-of-type {\n",
       "        vertical-align: middle;\n",
       "    }\n",
       "\n",
       "    .dataframe tbody tr th {\n",
       "        vertical-align: top;\n",
       "    }\n",
       "\n",
       "    .dataframe thead th {\n",
       "        text-align: right;\n",
       "    }\n",
       "</style>\n",
       "<table border=\"1\" class=\"dataframe\">\n",
       "  <thead>\n",
       "    <tr style=\"text-align: right;\">\n",
       "      <th></th>\n",
       "      <th>Show Number</th>\n",
       "      <th>Air Date</th>\n",
       "      <th>Round</th>\n",
       "      <th>Category</th>\n",
       "      <th>Value</th>\n",
       "      <th>Question</th>\n",
       "      <th>Answer</th>\n",
       "    </tr>\n",
       "  </thead>\n",
       "  <tbody>\n",
       "    <tr>\n",
       "      <th>0</th>\n",
       "      <td>4680</td>\n",
       "      <td>2004-12-31</td>\n",
       "      <td>Jeopardy!</td>\n",
       "      <td>HISTORY</td>\n",
       "      <td>$200</td>\n",
       "      <td>For the last 8 years of his life, Galileo was ...</td>\n",
       "      <td>Copernicus</td>\n",
       "    </tr>\n",
       "    <tr>\n",
       "      <th>1</th>\n",
       "      <td>4680</td>\n",
       "      <td>2004-12-31</td>\n",
       "      <td>Jeopardy!</td>\n",
       "      <td>ESPN's TOP 10 ALL-TIME ATHLETES</td>\n",
       "      <td>$200</td>\n",
       "      <td>No. 2: 1912 Olympian; football star at Carlisl...</td>\n",
       "      <td>Jim Thorpe</td>\n",
       "    </tr>\n",
       "    <tr>\n",
       "      <th>2</th>\n",
       "      <td>4680</td>\n",
       "      <td>2004-12-31</td>\n",
       "      <td>Jeopardy!</td>\n",
       "      <td>EVERYBODY TALKS ABOUT IT...</td>\n",
       "      <td>$200</td>\n",
       "      <td>The city of Yuma in this state has a record av...</td>\n",
       "      <td>Arizona</td>\n",
       "    </tr>\n",
       "    <tr>\n",
       "      <th>3</th>\n",
       "      <td>4680</td>\n",
       "      <td>2004-12-31</td>\n",
       "      <td>Jeopardy!</td>\n",
       "      <td>THE COMPANY LINE</td>\n",
       "      <td>$200</td>\n",
       "      <td>In 1963, live on \"The Art Linkletter Show\", th...</td>\n",
       "      <td>McDonald's</td>\n",
       "    </tr>\n",
       "    <tr>\n",
       "      <th>4</th>\n",
       "      <td>4680</td>\n",
       "      <td>2004-12-31</td>\n",
       "      <td>Jeopardy!</td>\n",
       "      <td>EPITAPHS &amp; TRIBUTES</td>\n",
       "      <td>$200</td>\n",
       "      <td>Signer of the Dec. of Indep., framer of the Co...</td>\n",
       "      <td>John Adams</td>\n",
       "    </tr>\n",
       "  </tbody>\n",
       "</table>\n",
       "</div>"
      ],
      "text/plain": [
       "   Show Number    Air Date      Round                         Category  Value  \\\n",
       "0         4680  2004-12-31  Jeopardy!                          HISTORY   $200   \n",
       "1         4680  2004-12-31  Jeopardy!  ESPN's TOP 10 ALL-TIME ATHLETES   $200   \n",
       "2         4680  2004-12-31  Jeopardy!      EVERYBODY TALKS ABOUT IT...   $200   \n",
       "3         4680  2004-12-31  Jeopardy!                 THE COMPANY LINE   $200   \n",
       "4         4680  2004-12-31  Jeopardy!              EPITAPHS & TRIBUTES   $200   \n",
       "\n",
       "                                            Question      Answer  \n",
       "0  For the last 8 years of his life, Galileo was ...  Copernicus  \n",
       "1  No. 2: 1912 Olympian; football star at Carlisl...  Jim Thorpe  \n",
       "2  The city of Yuma in this state has a record av...     Arizona  \n",
       "3  In 1963, live on \"The Art Linkletter Show\", th...  McDonald's  \n",
       "4  Signer of the Dec. of Indep., framer of the Co...  John Adams  "
      ]
     },
     "execution_count": 4,
     "metadata": {},
     "output_type": "execute_result"
    }
   ],
   "source": [
    "jeopardy.head()"
   ]
  },
  {
   "cell_type": "code",
   "execution_count": 5,
   "metadata": {},
   "outputs": [
    {
     "data": {
      "text/plain": [
       "Index(['Show Number', ' Air Date', ' Round', ' Category', ' Value',\n",
       "       ' Question', ' Answer'],\n",
       "      dtype='object')"
      ]
     },
     "execution_count": 5,
     "metadata": {},
     "output_type": "execute_result"
    }
   ],
   "source": [
    "jeopardy.columns"
   ]
  },
  {
   "cell_type": "code",
   "execution_count": 6,
   "metadata": {},
   "outputs": [],
   "source": [
    "jeopardy.rename(columns={' Air Date':'Air Date',' Round':'Round',\\\n",
    "' Category':'Category',' Value':'Value',' Question':'Question',\\\n",
    "' Answer':'Answer'},inplace=True)"
   ]
  },
  {
   "cell_type": "code",
   "execution_count": 7,
   "metadata": {},
   "outputs": [
    {
     "data": {
      "text/plain": [
       "Index(['Show Number', 'Air Date', 'Round', 'Category', 'Value', 'Question',\n",
       "       'Answer'],\n",
       "      dtype='object')"
      ]
     },
     "execution_count": 7,
     "metadata": {},
     "output_type": "execute_result"
    }
   ],
   "source": [
    "jeopardy.columns"
   ]
  },
  {
   "cell_type": "code",
   "execution_count": 8,
   "metadata": {},
   "outputs": [],
   "source": [
    "exclude=set(string.punctuation)\n",
    "\n",
    "def norm_string(s):\n",
    "    s=s.lower()\n",
    "    s=''.join(char for char in s if char not in exclude)\n",
    "    return s"
   ]
  },
  {
   "cell_type": "code",
   "execution_count": 9,
   "metadata": {
    "collapsed": true
   },
   "outputs": [],
   "source": [
    "#remove punctuation/caps from target column using function: norm_string\n",
    "jeopardy['clean_question']=jeopardy['Question'].apply(norm_string)\n",
    "jeopardy['clean_answer']=jeopardy['Answer'].apply(norm_string)"
   ]
  },
  {
   "cell_type": "code",
   "execution_count": 10,
   "metadata": {},
   "outputs": [],
   "source": [
    "def norm_dollar_string(s):\n",
    "    s=s.replace('$','')\n",
    "    s=s.replace(',','')\n",
    "    try:\n",
    "        s=int(s)\n",
    "    except:\n",
    "        s=0\n",
    "    return s"
   ]
  },
  {
   "cell_type": "code",
   "execution_count": 11,
   "metadata": {},
   "outputs": [],
   "source": [
    "#remove punctuation from 'Value' column and convert to integer\n",
    "jeopardy['clean_value']=jeopardy['Value'].apply(norm_dollar_string)"
   ]
  },
  {
   "cell_type": "code",
   "execution_count": 12,
   "metadata": {},
   "outputs": [],
   "source": [
    "jeopardy['Air Date']=pd.to_datetime(jeopardy['Air Date'])"
   ]
  },
  {
   "cell_type": "code",
   "execution_count": 13,
   "metadata": {},
   "outputs": [
    {
     "data": {
      "text/plain": [
       "Show Number                int64\n",
       "Air Date          datetime64[ns]\n",
       "Round                     object\n",
       "Category                  object\n",
       "Value                     object\n",
       "Question                  object\n",
       "Answer                    object\n",
       "clean_question            object\n",
       "clean_answer              object\n",
       "clean_value                int64\n",
       "dtype: object"
      ]
     },
     "execution_count": 13,
     "metadata": {},
     "output_type": "execute_result"
    }
   ],
   "source": [
    "jeopardy.dtypes"
   ]
  },
  {
   "cell_type": "code",
   "execution_count": 14,
   "metadata": {},
   "outputs": [],
   "source": [
    "# calc percentage of answer words in question\n",
    "# Ex. In answer \"John Adams\", John is in question:\n",
    "# =1/2 = 0.5\n",
    "def count_matches(row):\n",
    "    split_answer=row['clean_answer'].split(' ')\n",
    "    split_question=row['clean_question'].split(' ')\n",
    "    match_count=0\n",
    "    #remove all 'the' from split_answer, not just first one\n",
    "    split_answer=[item for item in split_answer if item != 'the']\n",
    "    if len(split_answer)==0:\n",
    "        return 0\n",
    "    for item in split_answer:\n",
    "        if item in split_question:\n",
    "            match_count+=1\n",
    "    return match_count/len(split_answer)        "
   ]
  },
  {
   "cell_type": "code",
   "execution_count": 15,
   "metadata": {},
   "outputs": [],
   "source": [
    "#Use pd.Dataframe.apply() method\n",
    "#apply count_matches() function to jeopardy dataframe row\n",
    "#axis=1 applies function to each row\n",
    "jeopardy['answer_in_question']=jeopardy.apply(count_matches,axis=1)"
   ]
  },
  {
   "cell_type": "code",
   "execution_count": 16,
   "metadata": {},
   "outputs": [
    {
     "name": "stdout",
     "output_type": "stream",
     "text": [
      "0.0597\n"
     ]
    }
   ],
   "source": [
    "answer_in_q_mean=jeopardy['answer_in_question'].mean()\n",
    "print(round(answer_in_q_mean,4))"
   ]
  },
  {
   "cell_type": "code",
   "execution_count": 17,
   "metadata": {},
   "outputs": [],
   "source": [
    "#About 6% of the time, the answer is in the question.\n",
    "#Therefore, this should be practiced."
   ]
  },
  {
   "cell_type": "code",
   "execution_count": 18,
   "metadata": {},
   "outputs": [],
   "source": [
    "#Sort the dataframe by ascending Air Date\n",
    "#Jeopardy questions are now in chronological order\n",
    "jeopardy.sort_values(by='Air Date',inplace=True)"
   ]
  },
  {
   "cell_type": "code",
   "execution_count": 19,
   "metadata": {},
   "outputs": [
    {
     "data": {
      "text/plain": [
       "0.687124288096678"
      ]
     },
     "execution_count": 19,
     "metadata": {},
     "output_type": "execute_result"
    }
   ],
   "source": [
    "#Are longer words (over 5 characters) in questions repeated in\n",
    "#an older question?  Character minimum excludes common words like\n",
    "#the and than that don't reveal a lot about the question.\n",
    "\n",
    "#df.iterrows() is a generator that returns index and row\n",
    "#A generator is a function which returns an object on which \n",
    "#you can call next().  next() returns one value each time it\n",
    "#is called.\n",
    "\n",
    "question_overlap=[]\n",
    "terms_used=set()\n",
    "\n",
    "for index, row in jeopardy.iterrows():\n",
    "    split_question=row['clean_question'].split(' ')\n",
    "    #exclude words shorter than 6 characters\n",
    "    split_question=[element for element in split_question if len(element)>5]\n",
    "    match_count=0\n",
    "    #tally words repeated in older terms_used\n",
    "    #tally done BEFORE any current split_question terms are added\n",
    "    for word in split_question:\n",
    "        if word in terms_used:\n",
    "            match_count+=1  \n",
    "    #add unique words to terms_used set\n",
    "    for word in split_question:\n",
    "        terms_used.add(word)\n",
    "    #percent of split_question words that overlap with older questions\n",
    "    if len(split_question) > 0:\n",
    "        match_count=match_count/len(split_question)\n",
    "    question_overlap.append(match_count)           \n",
    "\n",
    "jeopardy['question_overlap']=question_overlap\n",
    "jeopardy['question_overlap'].mean()"
   ]
  },
  {
   "cell_type": "code",
   "execution_count": 20,
   "metadata": {
    "collapsed": true
   },
   "outputs": [],
   "source": [
    "# A large number of questions are recycled over ~30 years.  About 69%."
   ]
  },
  {
   "cell_type": "code",
   "execution_count": 21,
   "metadata": {},
   "outputs": [],
   "source": [
    "def tag_high_low_val(dfrow):\n",
    "    if dfrow['clean_value']>800:\n",
    "        val=1\n",
    "    else:\n",
    "        val=0\n",
    "    return val"
   ]
  },
  {
   "cell_type": "code",
   "execution_count": 22,
   "metadata": {},
   "outputs": [],
   "source": [
    "#greate high_value column (high=1; low=0)\n",
    "jeopardy['high_value']=jeopardy.apply(tag_high_low_val,axis=1)"
   ]
  },
  {
   "cell_type": "code",
   "execution_count": 23,
   "metadata": {},
   "outputs": [
    {
     "name": "stdout",
     "output_type": "stream",
     "text": [
      "['brynner', 'baseballcincinnati', 'austern', 'gaseous', '“purely']\n",
      "[(1, 1), (0, 1), (0, 1), (1, 0), (0, 1)]\n"
     ]
    }
   ],
   "source": [
    "#Find frequency of word in high/low value questions\n",
    "#Low value question is $0-$800.  High value question is \n",
    "#greater than $800.\n",
    "def word_freq(word):\n",
    "    low_count=0\n",
    "    high_count=0\n",
    "    #Determine whether comparison word exists in question.\n",
    "    #If it exist, is it high or low value question?\n",
    "    for index, row in jeopardy.iterrows():\n",
    "        if word in row['clean_question'].split(' '):\n",
    "            if row['high_value']==1:\n",
    "                high_count+=1\n",
    "            else:\n",
    "                low_count+=1\n",
    "    return high_count, low_count\n",
    "\n",
    "observed_expected=[]\n",
    "comparison_terms=list(terms_used)[0:5]\n",
    "\n",
    "#fetch word frequency and append to list\n",
    "for word in comparison_terms:\n",
    "    observed_expected.append(word_freq(word))\n",
    "\n",
    "print(comparison_terms)    \n",
    "print(observed_expected)"
   ]
  },
  {
   "cell_type": "code",
   "execution_count": 24,
   "metadata": {},
   "outputs": [
    {
     "name": "stdout",
     "output_type": "stream",
     "text": [
      "High value count:  5734\n",
      "Low value count:  14265\n",
      "Jeopardy total rows:  19999\n",
      "\n",
      " We expect ~29% of words are high value and 71% low value\n"
     ]
    }
   ],
   "source": [
    "high_value_count=jeopardy[jeopardy['high_value']==1]\n",
    "high_value_count=high_value_count.shape[0]\n",
    "\n",
    "low_value_count=jeopardy[jeopardy['high_value']==0]\n",
    "low_value_count=low_value_count.shape[0]\n",
    "\n",
    "jeopardy_tot_rows=jeopardy.shape[0]\n",
    "\n",
    "print(\"High value count: \",high_value_count)\n",
    "print(\"Low value count: \",low_value_count)\n",
    "print('Jeopardy total rows: ',jeopardy_tot_rows)\n",
    "print('\\n','We expect ~29% of words are high value and 71% low value')"
   ]
  },
  {
   "cell_type": "code",
   "execution_count": 25,
   "metadata": {},
   "outputs": [
    {
     "name": "stdout",
     "output_type": "stream",
     "text": [
      "word chisqr:  0.445   p-value 0.505\n",
      "word chisqr:  0.402   p-value 0.526\n",
      "word chisqr:  0.402   p-value 0.526\n",
      "word chisqr:  2.488   p-value 0.115\n",
      "word chisqr:  0.402   p-value 0.526\n"
     ]
    }
   ],
   "source": [
    "from scipy.stats import chisquare\n",
    "chi_squared=[]\n",
    "\n",
    "for item in observed_expected:\n",
    "    total=sum(item)\n",
    "    #word proportion out of all questions\n",
    "    #Ex. proportion of 'displace' in all clean_questions\n",
    "    total_prop=total/jeopardy_tot_rows\n",
    "    exp_cnt_high=total_prop*high_value_count\n",
    "    exp_cnt_low=total_prop*low_value_count\n",
    "    \n",
    "    observed=np.array([item[0],item[1]])\n",
    "    expected=np.array([exp_cnt_high,exp_cnt_low])\n",
    "    chisqr, pval=chisquare(observed,expected)\n",
    "    chi_squared.append(chisquare(observed,expected))\n",
    "    print('word chisqr: ',round(chisqr,3),' ','p-value',round(pval,3))"
   ]
  },
  {
   "cell_type": "code",
   "execution_count": 26,
   "metadata": {
    "collapsed": true
   },
   "outputs": [],
   "source": [
    "#The p-values are greater than .05 so there no significance.\n",
    "#No word had a significant usage difference between high value\n",
    "#and low value questions."
   ]
  }
 ],
 "metadata": {
  "kernelspec": {
   "display_name": "Python 3",
   "language": "python",
   "name": "python3"
  },
  "language_info": {
   "codemirror_mode": {
    "name": "ipython",
    "version": 3
   },
   "file_extension": ".py",
   "mimetype": "text/x-python",
   "name": "python",
   "nbconvert_exporter": "python",
   "pygments_lexer": "ipython3",
   "version": "3.6.8"
  },
  "varInspector": {
   "cols": {
    "lenName": 16,
    "lenType": 16,
    "lenVar": 40
   },
   "kernels_config": {
    "python": {
     "delete_cmd_postfix": "",
     "delete_cmd_prefix": "del ",
     "library": "var_list.py",
     "varRefreshCmd": "print(var_dic_list())"
    },
    "r": {
     "delete_cmd_postfix": ") ",
     "delete_cmd_prefix": "rm(",
     "library": "var_list.r",
     "varRefreshCmd": "cat(var_dic_list()) "
    }
   },
   "types_to_exclude": [
    "module",
    "function",
    "builtin_function_or_method",
    "instance",
    "_Feature"
   ],
   "window_display": false
  }
 },
 "nbformat": 4,
 "nbformat_minor": 1
}
